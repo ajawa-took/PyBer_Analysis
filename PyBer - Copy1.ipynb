{
 "cells": [
  {
   "cell_type": "code",
   "execution_count": 1,
   "id": "a502a46a",
   "metadata": {},
   "outputs": [],
   "source": [
    "# Add Matplotlib inline magic command\n",
    "%matplotlib inline\n",
    "# Dependencies and Setup\n",
    "import matplotlib.pyplot as plt\n",
    "import pandas as pd\n",
    "import numpy as np"
   ]
  },
  {
   "cell_type": "code",
   "execution_count": 2,
   "id": "dcc925e0",
   "metadata": {},
   "outputs": [],
   "source": [
    "# Files to load\n",
    "city_data_to_load = \"Resources/city_data.csv\"\n",
    "ride_data_to_load = \"Resources/ride_data.csv\""
   ]
  },
  {
   "cell_type": "code",
   "execution_count": 3,
   "id": "71f141af",
   "metadata": {},
   "outputs": [],
   "source": [
    "# Read the city and ride data files and store them in pandas DataFrames.\n",
    "city_data_df = pd.read_csv(city_data_to_load)\n",
    "ride_data_df = pd.read_csv(ride_data_to_load)"
   ]
  },
  {
   "cell_type": "code",
   "execution_count": 12,
   "id": "9fe59fbe",
   "metadata": {},
   "outputs": [
    {
     "data": {
      "text/html": [
       "<div>\n",
       "<style scoped>\n",
       "    .dataframe tbody tr th:only-of-type {\n",
       "        vertical-align: middle;\n",
       "    }\n",
       "\n",
       "    .dataframe tbody tr th {\n",
       "        vertical-align: top;\n",
       "    }\n",
       "\n",
       "    .dataframe thead th {\n",
       "        text-align: right;\n",
       "    }\n",
       "</style>\n",
       "<table border=\"1\" class=\"dataframe\">\n",
       "  <thead>\n",
       "    <tr style=\"text-align: right;\">\n",
       "      <th></th>\n",
       "      <th>driver_count</th>\n",
       "    </tr>\n",
       "  </thead>\n",
       "  <tbody>\n",
       "    <tr>\n",
       "      <th>count</th>\n",
       "      <td>120.000000</td>\n",
       "    </tr>\n",
       "    <tr>\n",
       "      <th>mean</th>\n",
       "      <td>24.775000</td>\n",
       "    </tr>\n",
       "    <tr>\n",
       "      <th>std</th>\n",
       "      <td>20.277678</td>\n",
       "    </tr>\n",
       "    <tr>\n",
       "      <th>min</th>\n",
       "      <td>1.000000</td>\n",
       "    </tr>\n",
       "    <tr>\n",
       "      <th>25%</th>\n",
       "      <td>7.000000</td>\n",
       "    </tr>\n",
       "    <tr>\n",
       "      <th>50%</th>\n",
       "      <td>20.500000</td>\n",
       "    </tr>\n",
       "    <tr>\n",
       "      <th>75%</th>\n",
       "      <td>38.250000</td>\n",
       "    </tr>\n",
       "    <tr>\n",
       "      <th>max</th>\n",
       "      <td>73.000000</td>\n",
       "    </tr>\n",
       "  </tbody>\n",
       "</table>\n",
       "</div>"
      ],
      "text/plain": [
       "       driver_count\n",
       "count    120.000000\n",
       "mean      24.775000\n",
       "std       20.277678\n",
       "min        1.000000\n",
       "25%        7.000000\n",
       "50%       20.500000\n",
       "75%       38.250000\n",
       "max       73.000000"
      ]
     },
     "execution_count": 12,
     "metadata": {},
     "output_type": "execute_result"
    }
   ],
   "source": [
    "# 120 rows, 3 columns ['city', 'driver_count', 'type'], [object, int, object]\n",
    "# no nulls, 'city' is unique\n",
    "# types are ['Urban', 'Suburban', 'Rural'] with 66, 36, 18 cities each\n",
    "# driver count ranges from 1 to 73, mean 25, median 20.5\n",
    "\n",
    "city_data_df.describe()"
   ]
  },
  {
   "cell_type": "code",
   "execution_count": 18,
   "id": "e132610f",
   "metadata": {},
   "outputs": [
    {
     "data": {
      "text/html": [
       "<div>\n",
       "<style scoped>\n",
       "    .dataframe tbody tr th:only-of-type {\n",
       "        vertical-align: middle;\n",
       "    }\n",
       "\n",
       "    .dataframe tbody tr th {\n",
       "        vertical-align: top;\n",
       "    }\n",
       "\n",
       "    .dataframe thead th {\n",
       "        text-align: right;\n",
       "    }\n",
       "</style>\n",
       "<table border=\"1\" class=\"dataframe\">\n",
       "  <thead>\n",
       "    <tr style=\"text-align: right;\">\n",
       "      <th></th>\n",
       "      <th>city</th>\n",
       "      <th>date</th>\n",
       "      <th>fare</th>\n",
       "      <th>ride_id</th>\n",
       "    </tr>\n",
       "  </thead>\n",
       "  <tbody>\n",
       "    <tr>\n",
       "      <th>0</th>\n",
       "      <td>Lake Jonathanshire</td>\n",
       "      <td>2019-01-14 10:14:22</td>\n",
       "      <td>13.83</td>\n",
       "      <td>5739410935873</td>\n",
       "    </tr>\n",
       "    <tr>\n",
       "      <th>1</th>\n",
       "      <td>South Michelleport</td>\n",
       "      <td>2019-03-04 18:24:09</td>\n",
       "      <td>30.24</td>\n",
       "      <td>2343912425577</td>\n",
       "    </tr>\n",
       "    <tr>\n",
       "      <th>2</th>\n",
       "      <td>Port Samanthamouth</td>\n",
       "      <td>2019-02-24 04:29:00</td>\n",
       "      <td>33.44</td>\n",
       "      <td>2005065760003</td>\n",
       "    </tr>\n",
       "    <tr>\n",
       "      <th>3</th>\n",
       "      <td>Rodneyfort</td>\n",
       "      <td>2019-02-10 23:22:03</td>\n",
       "      <td>23.44</td>\n",
       "      <td>5149245426178</td>\n",
       "    </tr>\n",
       "    <tr>\n",
       "      <th>4</th>\n",
       "      <td>South Jack</td>\n",
       "      <td>2019-03-06 04:28:35</td>\n",
       "      <td>34.58</td>\n",
       "      <td>3908451377344</td>\n",
       "    </tr>\n",
       "  </tbody>\n",
       "</table>\n",
       "</div>"
      ],
      "text/plain": [
       "                 city                 date   fare        ride_id\n",
       "0  Lake Jonathanshire  2019-01-14 10:14:22  13.83  5739410935873\n",
       "1  South Michelleport  2019-03-04 18:24:09  30.24  2343912425577\n",
       "2  Port Samanthamouth  2019-02-24 04:29:00  33.44  2005065760003\n",
       "3          Rodneyfort  2019-02-10 23:22:03  23.44  5149245426178\n",
       "4          South Jack  2019-03-06 04:28:35  34.58  3908451377344"
      ]
     },
     "execution_count": 18,
     "metadata": {},
     "output_type": "execute_result"
    }
   ],
   "source": [
    "# 2375 rows, no nulls\n",
    "# 4 columns ['city', 'date', 'fare', 'ride_id'], [obj, obj, float, int]\n",
    "# ride-id unique, 120 cities, fare ranges from 4.05 to 58.55, mean,median=26.5\n",
    "\n",
    "ride_data_df.head()"
   ]
  },
  {
   "cell_type": "code",
   "execution_count": 19,
   "id": "7b471bbd",
   "metadata": {},
   "outputs": [],
   "source": [
    "import datetime"
   ]
  },
  {
   "cell_type": "code",
   "execution_count": 21,
   "id": "13ef07ba",
   "metadata": {},
   "outputs": [],
   "source": [
    "ride_data_df['realdate'] = ride_data_df['date'].map(lambda x: datetime.datetime.fromisoformat(x))"
   ]
  },
  {
   "cell_type": "code",
   "execution_count": 27,
   "id": "6cb2c493",
   "metadata": {},
   "outputs": [
    {
     "data": {
      "text/plain": [
       "Timestamp('2019-05-08 13:10:18')"
      ]
     },
     "execution_count": 27,
     "metadata": {},
     "output_type": "execute_result"
    }
   ],
   "source": [
    "# min '2019-01-01 00:08:16' , max '2019-05-08 13:10:18'\n",
    "ride_data_df['realdate'].max()"
   ]
  },
  {
   "cell_type": "code",
   "execution_count": 28,
   "id": "794abea9",
   "metadata": {},
   "outputs": [
    {
     "data": {
      "text/plain": [
       "array(['Urban', 'Suburban', 'Rural'], dtype=object)"
      ]
     },
     "execution_count": 28,
     "metadata": {},
     "output_type": "execute_result"
    }
   ],
   "source": [
    "city_data_df[\"type\"].unique()"
   ]
  },
  {
   "cell_type": "code",
   "execution_count": 29,
   "id": "94e82baa",
   "metadata": {},
   "outputs": [
    {
     "data": {
      "text/html": [
       "<div>\n",
       "<style scoped>\n",
       "    .dataframe tbody tr th:only-of-type {\n",
       "        vertical-align: middle;\n",
       "    }\n",
       "\n",
       "    .dataframe tbody tr th {\n",
       "        vertical-align: top;\n",
       "    }\n",
       "\n",
       "    .dataframe thead th {\n",
       "        text-align: right;\n",
       "    }\n",
       "</style>\n",
       "<table border=\"1\" class=\"dataframe\">\n",
       "  <thead>\n",
       "    <tr style=\"text-align: right;\">\n",
       "      <th></th>\n",
       "      <th>city</th>\n",
       "      <th>date</th>\n",
       "      <th>fare</th>\n",
       "      <th>ride_id</th>\n",
       "      <th>realdate</th>\n",
       "      <th>driver_count</th>\n",
       "      <th>type</th>\n",
       "    </tr>\n",
       "  </thead>\n",
       "  <tbody>\n",
       "    <tr>\n",
       "      <th>0</th>\n",
       "      <td>Lake Jonathanshire</td>\n",
       "      <td>2019-01-14 10:14:22</td>\n",
       "      <td>13.83</td>\n",
       "      <td>5739410935873</td>\n",
       "      <td>2019-01-14 10:14:22</td>\n",
       "      <td>5</td>\n",
       "      <td>Urban</td>\n",
       "    </tr>\n",
       "    <tr>\n",
       "      <th>1</th>\n",
       "      <td>South Michelleport</td>\n",
       "      <td>2019-03-04 18:24:09</td>\n",
       "      <td>30.24</td>\n",
       "      <td>2343912425577</td>\n",
       "      <td>2019-03-04 18:24:09</td>\n",
       "      <td>72</td>\n",
       "      <td>Urban</td>\n",
       "    </tr>\n",
       "    <tr>\n",
       "      <th>2</th>\n",
       "      <td>Port Samanthamouth</td>\n",
       "      <td>2019-02-24 04:29:00</td>\n",
       "      <td>33.44</td>\n",
       "      <td>2005065760003</td>\n",
       "      <td>2019-02-24 04:29:00</td>\n",
       "      <td>57</td>\n",
       "      <td>Urban</td>\n",
       "    </tr>\n",
       "    <tr>\n",
       "      <th>3</th>\n",
       "      <td>Rodneyfort</td>\n",
       "      <td>2019-02-10 23:22:03</td>\n",
       "      <td>23.44</td>\n",
       "      <td>5149245426178</td>\n",
       "      <td>2019-02-10 23:22:03</td>\n",
       "      <td>34</td>\n",
       "      <td>Urban</td>\n",
       "    </tr>\n",
       "    <tr>\n",
       "      <th>4</th>\n",
       "      <td>South Jack</td>\n",
       "      <td>2019-03-06 04:28:35</td>\n",
       "      <td>34.58</td>\n",
       "      <td>3908451377344</td>\n",
       "      <td>2019-03-06 04:28:35</td>\n",
       "      <td>46</td>\n",
       "      <td>Urban</td>\n",
       "    </tr>\n",
       "  </tbody>\n",
       "</table>\n",
       "</div>"
      ],
      "text/plain": [
       "                 city                 date   fare        ride_id  \\\n",
       "0  Lake Jonathanshire  2019-01-14 10:14:22  13.83  5739410935873   \n",
       "1  South Michelleport  2019-03-04 18:24:09  30.24  2343912425577   \n",
       "2  Port Samanthamouth  2019-02-24 04:29:00  33.44  2005065760003   \n",
       "3          Rodneyfort  2019-02-10 23:22:03  23.44  5149245426178   \n",
       "4          South Jack  2019-03-06 04:28:35  34.58  3908451377344   \n",
       "\n",
       "             realdate  driver_count   type  \n",
       "0 2019-01-14 10:14:22             5  Urban  \n",
       "1 2019-03-04 18:24:09            72  Urban  \n",
       "2 2019-02-24 04:29:00            57  Urban  \n",
       "3 2019-02-10 23:22:03            34  Urban  \n",
       "4 2019-03-06 04:28:35            46  Urban  "
      ]
     },
     "execution_count": 29,
     "metadata": {},
     "output_type": "execute_result"
    }
   ],
   "source": [
    "# Combine the data into a single dataset\n",
    "pyber_data_df = pd.merge(ride_data_df, city_data_df, how=\"left\", on=[\"city\", \"city\"])\n",
    "\n",
    "# Display the DataFrame\n",
    "pyber_data_df.head()"
   ]
  },
  {
   "cell_type": "code",
   "execution_count": 31,
   "id": "8d558512",
   "metadata": {},
   "outputs": [
    {
     "data": {
      "text/plain": [
       "city            2375\n",
       "date            2375\n",
       "fare            2375\n",
       "ride_id         2375\n",
       "realdate        2375\n",
       "driver_count    2375\n",
       "type            2375\n",
       "dtype: int64"
      ]
     },
     "execution_count": 31,
     "metadata": {},
     "output_type": "execute_result"
    }
   ],
   "source": [
    "pyber_data_df.count()"
   ]
  },
  {
   "cell_type": "code",
   "execution_count": 47,
   "id": "fcdc7f6f",
   "metadata": {},
   "outputs": [],
   "source": [
    "city_agg_df = pyber_data_df.groupby('city').agg(ride_count=('ride_id', (lambda x: len(x))),\n",
    "                                                avg_fare=('fare', np.mean),\n",
    "                                                driver_count=('driver_count', (lambda x: x.mode())),\n",
    "                                                city_type=('type', (lambda x: x.mode())))"
   ]
  },
  {
   "cell_type": "code",
   "execution_count": 48,
   "id": "100ef5a5",
   "metadata": {},
   "outputs": [
    {
     "data": {
      "text/html": [
       "<div>\n",
       "<style scoped>\n",
       "    .dataframe tbody tr th:only-of-type {\n",
       "        vertical-align: middle;\n",
       "    }\n",
       "\n",
       "    .dataframe tbody tr th {\n",
       "        vertical-align: top;\n",
       "    }\n",
       "\n",
       "    .dataframe thead th {\n",
       "        text-align: right;\n",
       "    }\n",
       "</style>\n",
       "<table border=\"1\" class=\"dataframe\">\n",
       "  <thead>\n",
       "    <tr style=\"text-align: right;\">\n",
       "      <th></th>\n",
       "      <th>number_of_rides</th>\n",
       "      <th>average_fare</th>\n",
       "      <th>driver_count</th>\n",
       "      <th>city_type</th>\n",
       "    </tr>\n",
       "    <tr>\n",
       "      <th>city</th>\n",
       "      <th></th>\n",
       "      <th></th>\n",
       "      <th></th>\n",
       "      <th></th>\n",
       "    </tr>\n",
       "  </thead>\n",
       "  <tbody>\n",
       "    <tr>\n",
       "      <th>Amandaburgh</th>\n",
       "      <td>18</td>\n",
       "      <td>24.641667</td>\n",
       "      <td>12</td>\n",
       "      <td>Urban</td>\n",
       "    </tr>\n",
       "    <tr>\n",
       "      <th>Barajasview</th>\n",
       "      <td>22</td>\n",
       "      <td>25.332273</td>\n",
       "      <td>26</td>\n",
       "      <td>Urban</td>\n",
       "    </tr>\n",
       "    <tr>\n",
       "      <th>Barronchester</th>\n",
       "      <td>16</td>\n",
       "      <td>36.422500</td>\n",
       "      <td>11</td>\n",
       "      <td>Suburban</td>\n",
       "    </tr>\n",
       "    <tr>\n",
       "      <th>Bethanyland</th>\n",
       "      <td>18</td>\n",
       "      <td>32.956111</td>\n",
       "      <td>22</td>\n",
       "      <td>Suburban</td>\n",
       "    </tr>\n",
       "    <tr>\n",
       "      <th>Bradshawfurt</th>\n",
       "      <td>10</td>\n",
       "      <td>40.064000</td>\n",
       "      <td>7</td>\n",
       "      <td>Rural</td>\n",
       "    </tr>\n",
       "    <tr>\n",
       "      <th>...</th>\n",
       "      <td>...</td>\n",
       "      <td>...</td>\n",
       "      <td>...</td>\n",
       "      <td>...</td>\n",
       "    </tr>\n",
       "    <tr>\n",
       "      <th>West Robert</th>\n",
       "      <td>31</td>\n",
       "      <td>25.123871</td>\n",
       "      <td>39</td>\n",
       "      <td>Urban</td>\n",
       "    </tr>\n",
       "    <tr>\n",
       "      <th>West Samuelburgh</th>\n",
       "      <td>25</td>\n",
       "      <td>21.767600</td>\n",
       "      <td>73</td>\n",
       "      <td>Urban</td>\n",
       "    </tr>\n",
       "    <tr>\n",
       "      <th>Williamsonville</th>\n",
       "      <td>14</td>\n",
       "      <td>31.875000</td>\n",
       "      <td>2</td>\n",
       "      <td>Suburban</td>\n",
       "    </tr>\n",
       "    <tr>\n",
       "      <th>Williamsstad</th>\n",
       "      <td>23</td>\n",
       "      <td>24.362174</td>\n",
       "      <td>59</td>\n",
       "      <td>Urban</td>\n",
       "    </tr>\n",
       "    <tr>\n",
       "      <th>Williamsview</th>\n",
       "      <td>20</td>\n",
       "      <td>26.599000</td>\n",
       "      <td>46</td>\n",
       "      <td>Urban</td>\n",
       "    </tr>\n",
       "  </tbody>\n",
       "</table>\n",
       "<p>120 rows × 4 columns</p>\n",
       "</div>"
      ],
      "text/plain": [
       "                  number_of_rides  average_fare  driver_count city_type\n",
       "city                                                                   \n",
       "Amandaburgh                    18     24.641667            12     Urban\n",
       "Barajasview                    22     25.332273            26     Urban\n",
       "Barronchester                  16     36.422500            11  Suburban\n",
       "Bethanyland                    18     32.956111            22  Suburban\n",
       "Bradshawfurt                   10     40.064000             7     Rural\n",
       "...                           ...           ...           ...       ...\n",
       "West Robert                    31     25.123871            39     Urban\n",
       "West Samuelburgh               25     21.767600            73     Urban\n",
       "Williamsonville                14     31.875000             2  Suburban\n",
       "Williamsstad                   23     24.362174            59     Urban\n",
       "Williamsview                   20     26.599000            46     Urban\n",
       "\n",
       "[120 rows x 4 columns]"
      ]
     },
     "execution_count": 48,
     "metadata": {},
     "output_type": "execute_result"
    }
   ],
   "source": [
    "city_agg_df"
   ]
  },
  {
   "cell_type": "code",
   "execution_count": 49,
   "id": "5c0adccf",
   "metadata": {},
   "outputs": [],
   "source": [
    "city_agg_df['sum_of_fares'] = city_agg_df['ride_count']*city_agg_df['avg_fare']"
   ]
  },
  {
   "cell_type": "code",
   "execution_count": 60,
   "id": "074df863",
   "metadata": {},
   "outputs": [],
   "source": [
    "# def colorr(x):\n",
    "#     if x == 'Urban':\n",
    "#         return 'orange'\n",
    "#     elif x == 'Suburban':\n",
    "#         return 'skyblue'\n",
    "#     else:\n",
    "#         return 'yellow'\n",
    "\n",
    "# city_agg_df['type_color'] = city_agg_df['city_type'].map(lambda x : colorr(x))\n"
   ]
  },
  {
   "cell_type": "code",
   "execution_count": 61,
   "id": "bda70525",
   "metadata": {},
   "outputs": [
    {
     "data": {
      "text/html": [
       "<div>\n",
       "<style scoped>\n",
       "    .dataframe tbody tr th:only-of-type {\n",
       "        vertical-align: middle;\n",
       "    }\n",
       "\n",
       "    .dataframe tbody tr th {\n",
       "        vertical-align: top;\n",
       "    }\n",
       "\n",
       "    .dataframe thead th {\n",
       "        text-align: right;\n",
       "    }\n",
       "</style>\n",
       "<table border=\"1\" class=\"dataframe\">\n",
       "  <thead>\n",
       "    <tr style=\"text-align: right;\">\n",
       "      <th></th>\n",
       "      <th>number_of_rides</th>\n",
       "      <th>average_fare</th>\n",
       "      <th>driver_count</th>\n",
       "      <th>city_type</th>\n",
       "      <th>sum_of_fares</th>\n",
       "      <th>type_color</th>\n",
       "    </tr>\n",
       "    <tr>\n",
       "      <th>city</th>\n",
       "      <th></th>\n",
       "      <th></th>\n",
       "      <th></th>\n",
       "      <th></th>\n",
       "      <th></th>\n",
       "      <th></th>\n",
       "    </tr>\n",
       "  </thead>\n",
       "  <tbody>\n",
       "    <tr>\n",
       "      <th>Amandaburgh</th>\n",
       "      <td>18</td>\n",
       "      <td>24.641667</td>\n",
       "      <td>12</td>\n",
       "      <td>Urban</td>\n",
       "      <td>443.55</td>\n",
       "      <td>orange</td>\n",
       "    </tr>\n",
       "    <tr>\n",
       "      <th>Barajasview</th>\n",
       "      <td>22</td>\n",
       "      <td>25.332273</td>\n",
       "      <td>26</td>\n",
       "      <td>Urban</td>\n",
       "      <td>557.31</td>\n",
       "      <td>orange</td>\n",
       "    </tr>\n",
       "    <tr>\n",
       "      <th>Barronchester</th>\n",
       "      <td>16</td>\n",
       "      <td>36.422500</td>\n",
       "      <td>11</td>\n",
       "      <td>Suburban</td>\n",
       "      <td>582.76</td>\n",
       "      <td>skyblue</td>\n",
       "    </tr>\n",
       "    <tr>\n",
       "      <th>Bethanyland</th>\n",
       "      <td>18</td>\n",
       "      <td>32.956111</td>\n",
       "      <td>22</td>\n",
       "      <td>Suburban</td>\n",
       "      <td>593.21</td>\n",
       "      <td>skyblue</td>\n",
       "    </tr>\n",
       "    <tr>\n",
       "      <th>Bradshawfurt</th>\n",
       "      <td>10</td>\n",
       "      <td>40.064000</td>\n",
       "      <td>7</td>\n",
       "      <td>Rural</td>\n",
       "      <td>400.64</td>\n",
       "      <td>yellow</td>\n",
       "    </tr>\n",
       "    <tr>\n",
       "      <th>...</th>\n",
       "      <td>...</td>\n",
       "      <td>...</td>\n",
       "      <td>...</td>\n",
       "      <td>...</td>\n",
       "      <td>...</td>\n",
       "      <td>...</td>\n",
       "    </tr>\n",
       "    <tr>\n",
       "      <th>West Robert</th>\n",
       "      <td>31</td>\n",
       "      <td>25.123871</td>\n",
       "      <td>39</td>\n",
       "      <td>Urban</td>\n",
       "      <td>778.84</td>\n",
       "      <td>orange</td>\n",
       "    </tr>\n",
       "    <tr>\n",
       "      <th>West Samuelburgh</th>\n",
       "      <td>25</td>\n",
       "      <td>21.767600</td>\n",
       "      <td>73</td>\n",
       "      <td>Urban</td>\n",
       "      <td>544.19</td>\n",
       "      <td>orange</td>\n",
       "    </tr>\n",
       "    <tr>\n",
       "      <th>Williamsonville</th>\n",
       "      <td>14</td>\n",
       "      <td>31.875000</td>\n",
       "      <td>2</td>\n",
       "      <td>Suburban</td>\n",
       "      <td>446.25</td>\n",
       "      <td>skyblue</td>\n",
       "    </tr>\n",
       "    <tr>\n",
       "      <th>Williamsstad</th>\n",
       "      <td>23</td>\n",
       "      <td>24.362174</td>\n",
       "      <td>59</td>\n",
       "      <td>Urban</td>\n",
       "      <td>560.33</td>\n",
       "      <td>orange</td>\n",
       "    </tr>\n",
       "    <tr>\n",
       "      <th>Williamsview</th>\n",
       "      <td>20</td>\n",
       "      <td>26.599000</td>\n",
       "      <td>46</td>\n",
       "      <td>Urban</td>\n",
       "      <td>531.98</td>\n",
       "      <td>orange</td>\n",
       "    </tr>\n",
       "  </tbody>\n",
       "</table>\n",
       "<p>120 rows × 6 columns</p>\n",
       "</div>"
      ],
      "text/plain": [
       "                  number_of_rides  average_fare  driver_count city_type  \\\n",
       "city                                                                      \n",
       "Amandaburgh                    18     24.641667            12     Urban   \n",
       "Barajasview                    22     25.332273            26     Urban   \n",
       "Barronchester                  16     36.422500            11  Suburban   \n",
       "Bethanyland                    18     32.956111            22  Suburban   \n",
       "Bradshawfurt                   10     40.064000             7     Rural   \n",
       "...                           ...           ...           ...       ...   \n",
       "West Robert                    31     25.123871            39     Urban   \n",
       "West Samuelburgh               25     21.767600            73     Urban   \n",
       "Williamsonville                14     31.875000             2  Suburban   \n",
       "Williamsstad                   23     24.362174            59     Urban   \n",
       "Williamsview                   20     26.599000            46     Urban   \n",
       "\n",
       "                  sum_of_fares type_color  \n",
       "city                                       \n",
       "Amandaburgh             443.55     orange  \n",
       "Barajasview             557.31     orange  \n",
       "Barronchester           582.76    skyblue  \n",
       "Bethanyland             593.21    skyblue  \n",
       "Bradshawfurt            400.64     yellow  \n",
       "...                        ...        ...  \n",
       "West Robert             778.84     orange  \n",
       "West Samuelburgh        544.19     orange  \n",
       "Williamsonville         446.25    skyblue  \n",
       "Williamsstad            560.33     orange  \n",
       "Williamsview            531.98     orange  \n",
       "\n",
       "[120 rows x 6 columns]"
      ]
     },
     "execution_count": 61,
     "metadata": {},
     "output_type": "execute_result"
    }
   ],
   "source": [
    "city_agg_df"
   ]
  },
  {
   "cell_type": "code",
   "execution_count": 51,
   "id": "639270cf",
   "metadata": {},
   "outputs": [],
   "source": [
    "stats_by_type_df = city_agg_df.groupby('city_type')\\\n",
    ".agg(ride_count=('ride_count', np.sum),\n",
    "     sum_of_fares=('sum_of_fares', np.sum),\n",
    "     driver_count=('driver_count', np.sum))"
   ]
  },
  {
   "cell_type": "code",
   "execution_count": 52,
   "id": "7deb9d91",
   "metadata": {},
   "outputs": [
    {
     "data": {
      "text/html": [
       "<div>\n",
       "<style scoped>\n",
       "    .dataframe tbody tr th:only-of-type {\n",
       "        vertical-align: middle;\n",
       "    }\n",
       "\n",
       "    .dataframe tbody tr th {\n",
       "        vertical-align: top;\n",
       "    }\n",
       "\n",
       "    .dataframe thead th {\n",
       "        text-align: right;\n",
       "    }\n",
       "</style>\n",
       "<table border=\"1\" class=\"dataframe\">\n",
       "  <thead>\n",
       "    <tr style=\"text-align: right;\">\n",
       "      <th></th>\n",
       "      <th>number_of_rides</th>\n",
       "      <th>sum_of_fares</th>\n",
       "      <th>driver_count</th>\n",
       "    </tr>\n",
       "    <tr>\n",
       "      <th>city_type</th>\n",
       "      <th></th>\n",
       "      <th></th>\n",
       "      <th></th>\n",
       "    </tr>\n",
       "  </thead>\n",
       "  <tbody>\n",
       "    <tr>\n",
       "      <th>Rural</th>\n",
       "      <td>125</td>\n",
       "      <td>4327.93</td>\n",
       "      <td>78</td>\n",
       "    </tr>\n",
       "    <tr>\n",
       "      <th>Suburban</th>\n",
       "      <td>625</td>\n",
       "      <td>19356.33</td>\n",
       "      <td>490</td>\n",
       "    </tr>\n",
       "    <tr>\n",
       "      <th>Urban</th>\n",
       "      <td>1625</td>\n",
       "      <td>39854.38</td>\n",
       "      <td>2405</td>\n",
       "    </tr>\n",
       "  </tbody>\n",
       "</table>\n",
       "</div>"
      ],
      "text/plain": [
       "           number_of_rides  sum_of_fares  driver_count\n",
       "city_type                                             \n",
       "Rural                  125       4327.93            78\n",
       "Suburban               625      19356.33           490\n",
       "Urban                 1625      39854.38          2405"
      ]
     },
     "execution_count": 52,
     "metadata": {},
     "output_type": "execute_result"
    }
   ],
   "source": [
    "stats_by_type_df"
   ]
  },
  {
   "cell_type": "code",
   "execution_count": 53,
   "id": "21968c60",
   "metadata": {},
   "outputs": [],
   "source": [
    "stats_by_type_df['avg_fare'] = \\\n",
    "stats_by_type_df['sum_of_fares']/stats_by_type_df['number_of_rides']"
   ]
  },
  {
   "cell_type": "code",
   "execution_count": 54,
   "id": "819ad1ec",
   "metadata": {},
   "outputs": [
    {
     "data": {
      "text/html": [
       "<div>\n",
       "<style scoped>\n",
       "    .dataframe tbody tr th:only-of-type {\n",
       "        vertical-align: middle;\n",
       "    }\n",
       "\n",
       "    .dataframe tbody tr th {\n",
       "        vertical-align: top;\n",
       "    }\n",
       "\n",
       "    .dataframe thead th {\n",
       "        text-align: right;\n",
       "    }\n",
       "</style>\n",
       "<table border=\"1\" class=\"dataframe\">\n",
       "  <thead>\n",
       "    <tr style=\"text-align: right;\">\n",
       "      <th></th>\n",
       "      <th>number_of_rides</th>\n",
       "      <th>sum_of_fares</th>\n",
       "      <th>driver_count</th>\n",
       "      <th>average_fare</th>\n",
       "    </tr>\n",
       "    <tr>\n",
       "      <th>city_type</th>\n",
       "      <th></th>\n",
       "      <th></th>\n",
       "      <th></th>\n",
       "      <th></th>\n",
       "    </tr>\n",
       "  </thead>\n",
       "  <tbody>\n",
       "    <tr>\n",
       "      <th>Rural</th>\n",
       "      <td>125</td>\n",
       "      <td>4327.93</td>\n",
       "      <td>78</td>\n",
       "      <td>34.623440</td>\n",
       "    </tr>\n",
       "    <tr>\n",
       "      <th>Suburban</th>\n",
       "      <td>625</td>\n",
       "      <td>19356.33</td>\n",
       "      <td>490</td>\n",
       "      <td>30.970128</td>\n",
       "    </tr>\n",
       "    <tr>\n",
       "      <th>Urban</th>\n",
       "      <td>1625</td>\n",
       "      <td>39854.38</td>\n",
       "      <td>2405</td>\n",
       "      <td>24.525772</td>\n",
       "    </tr>\n",
       "  </tbody>\n",
       "</table>\n",
       "</div>"
      ],
      "text/plain": [
       "           number_of_rides  sum_of_fares  driver_count  average_fare\n",
       "city_type                                                           \n",
       "Rural                  125       4327.93            78     34.623440\n",
       "Suburban               625      19356.33           490     30.970128\n",
       "Urban                 1625      39854.38          2405     24.525772"
      ]
     },
     "execution_count": 54,
     "metadata": {},
     "output_type": "execute_result"
    }
   ],
   "source": [
    "stats_by_type_df"
   ]
  },
  {
   "cell_type": "code",
   "execution_count": 67,
   "id": "9bdda680",
   "metadata": {},
   "outputs": [
    {
     "data": {
      "text/plain": [
       "<AxesSubplot:xlabel='number_of_rides', ylabel='average_fare'>"
      ]
     },
     "execution_count": 67,
     "metadata": {},
     "output_type": "execute_result"
    },
    {
     "data": {
      "image/png": "[encoded data removed]",
      "text/plain": [
       "<Figure size 432x288 with 1 Axes>"
      ]
     },
     "metadata": {
      "needs_background": "light"
     },
     "output_type": "display_data"
    }
   ],
   "source": [
    "city_agg_df.plot(x='ride_count', y='avg_fare', kind = 'scatter', \n",
    "                 s= [x*3 for x in city_agg_df['driver_count']], \n",
    "                 color = city_agg_df['type_color'], edgecolor='black')"
   ]
  },
  {
   "cell_type": "code",
   "execution_count": 70,
   "id": "94770fb4",
   "metadata": {},
   "outputs": [],
   "source": [
    "rural_agg_df = city_agg_df[city_agg_df['city_type'] == 'Rural']\n",
    "suburban_agg_df = city_agg_df[city_agg_df['city_type'] == 'Suburban']\n",
    "urban_agg_df = city_agg_df[city_agg_df['city_type'] == 'Urban']"
   ]
  },
  {
   "cell_type": "code",
   "execution_count": 71,
   "id": "7813f59d",
   "metadata": {},
   "outputs": [
    {
     "data": {
      "text/html": [
       "<div>\n",
       "<style scoped>\n",
       "    .dataframe tbody tr th:only-of-type {\n",
       "        vertical-align: middle;\n",
       "    }\n",
       "\n",
       "    .dataframe tbody tr th {\n",
       "        vertical-align: top;\n",
       "    }\n",
       "\n",
       "    .dataframe thead th {\n",
       "        text-align: right;\n",
       "    }\n",
       "</style>\n",
       "<table border=\"1\" class=\"dataframe\">\n",
       "  <thead>\n",
       "    <tr style=\"text-align: right;\">\n",
       "      <th></th>\n",
       "      <th>number_of_rides</th>\n",
       "      <th>average_fare</th>\n",
       "      <th>driver_count</th>\n",
       "      <th>city_type</th>\n",
       "      <th>sum_of_fares</th>\n",
       "      <th>type_color</th>\n",
       "    </tr>\n",
       "    <tr>\n",
       "      <th>city</th>\n",
       "      <th></th>\n",
       "      <th></th>\n",
       "      <th></th>\n",
       "      <th></th>\n",
       "      <th></th>\n",
       "      <th></th>\n",
       "    </tr>\n",
       "  </thead>\n",
       "  <tbody>\n",
       "    <tr>\n",
       "      <th>Bradshawfurt</th>\n",
       "      <td>10</td>\n",
       "      <td>40.064000</td>\n",
       "      <td>7</td>\n",
       "      <td>Rural</td>\n",
       "      <td>400.64</td>\n",
       "      <td>yellow</td>\n",
       "    </tr>\n",
       "    <tr>\n",
       "      <th>Garzaport</th>\n",
       "      <td>3</td>\n",
       "      <td>24.123333</td>\n",
       "      <td>7</td>\n",
       "      <td>Rural</td>\n",
       "      <td>72.37</td>\n",
       "      <td>yellow</td>\n",
       "    </tr>\n",
       "  </tbody>\n",
       "</table>\n",
       "</div>"
      ],
      "text/plain": [
       "              number_of_rides  average_fare  driver_count city_type  \\\n",
       "city                                                                  \n",
       "Bradshawfurt               10     40.064000             7     Rural   \n",
       "Garzaport                   3     24.123333             7     Rural   \n",
       "\n",
       "              sum_of_fares type_color  \n",
       "city                                   \n",
       "Bradshawfurt        400.64     yellow  \n",
       "Garzaport            72.37     yellow  "
      ]
     },
     "execution_count": 71,
     "metadata": {},
     "output_type": "execute_result"
    }
   ],
   "source": [
    "rural_agg_df.head(2)"
   ]
  },
  {
   "cell_type": "code",
   "execution_count": null,
   "id": "e019bb21",
   "metadata": {},
   "outputs": [],
   "source": [
    "# Add the scatter charts for each type of city.\n",
    "plt.scatter(urban_agg_df['ride_count'],\n",
    "      urban_agg_df['avg_fare'],\n",
    "      s=10*urban_agg_df['ride_count'], c=\"coral\",\n",
    "      edgecolor=\"black\", linewidths=1,\n",
    "      alpha=0.8, label=\"Urban\")\n",
    "\n",
    "# plt.scatter(suburban_ride_count,\n",
    "#       suburban_avg_fare,\n",
    "#       s=10*suburban_driver_count, c=\"skyblue\",\n",
    "#       edgecolor=\"black\", linewidths=1,\n",
    "#       alpha=0.8, label=\"Suburban\")\n",
    "\n",
    "# plt.scatter(rural_ride_count,\n",
    "#       rural_avg_fare,\n",
    "#       s=10*rural_driver_count, c=\"gold\",\n",
    "#       edgecolor=\"black\", linewidths=1,\n",
    "#       alpha=0.8, label=\"Rural\")\n",
    "\n",
    "# Show the plot\n",
    "plt.show()"
   ]
  },
  {
   "cell_type": "code",
   "execution_count": null,
   "id": "fa364891",
   "metadata": {},
   "outputs": [],
   "source": []
  },
  {
   "cell_type": "code",
   "execution_count": 74,
   "id": "d354459a",
   "metadata": {},
   "outputs": [
    {
     "data": {
      "image/png": "[encoded data removed]",
      "text/plain": [
       "<Figure size 432x288 with 1 Axes>"
      ]
     },
     "metadata": {
      "needs_background": "light"
     },
     "output_type": "display_data"
    },
    {
     "data": {
      "image/png": "[encoded data removed]",
      "text/plain": [
       "<Figure size 432x288 with 1 Axes>"
      ]
     },
     "metadata": {
      "needs_background": "light"
     },
     "output_type": "display_data"
    }
   ],
   "source": [
    "rural_agg_df.plot(x='number_of_rides', y='average_fare', kind = 'scatter', \n",
    "                 s= [x*3 for x in rural_agg_df['driver_count']], \n",
    "                 color = rural_agg_df['type_color'], edgecolor='black')\n",
    "urban_agg_df.plot(x='number_of_rides', y='average_fare', kind = 'scatter', \n",
    "                 s= [x*3 for x in urban_agg_df['driver_count']], \n",
    "                 color = urban_agg_df['type_color'], edgecolor='black')\n",
    "plt.show()"
   ]
  },
  {
   "cell_type": "code",
   "execution_count": null,
   "id": "9354c26c",
   "metadata": {},
   "outputs": [],
   "source": []
  },
  {
   "cell_type": "code",
   "execution_count": null,
   "id": "4dd939ff",
   "metadata": {},
   "outputs": [],
   "source": []
  },
  {
   "cell_type": "code",
   "execution_count": null,
   "id": "e15d868d",
   "metadata": {},
   "outputs": [],
   "source": []
  },
  {
   "cell_type": "code",
   "execution_count": null,
   "id": "bc2919b7",
   "metadata": {},
   "outputs": [],
   "source": []
  },
  {
   "cell_type": "code",
   "execution_count": null,
   "id": "c6794eab",
   "metadata": {},
   "outputs": [],
   "source": []
  }
 ],
 "metadata": {
  "kernelspec": {
   "display_name": "Python 3 (ipykernel)",
   "language": "python",
   "name": "python3"
  },
  "language_info": {
   "codemirror_mode": {
    "name": "ipython",
    "version": 3
   },
   "file_extension": ".py",
   "mimetype": "text/x-python",
   "name": "python",
   "nbconvert_exporter": "python",
   "pygments_lexer": "ipython3",
   "version": "3.7.13"
  }
 },
 "nbformat": 4,
 "nbformat_minor": 5
}
